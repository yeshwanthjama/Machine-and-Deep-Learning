{
 "cells": [
  {
   "cell_type": "markdown",
   "metadata": {},
   "source": [
    "# Question 1.1"
   ]
  },
  {
   "cell_type": "code",
   "execution_count": 6,
   "metadata": {},
   "outputs": [
    {
     "name": "stdout",
     "output_type": "stream",
     "text": [
      "15\n"
     ]
    }
   ],
   "source": [
    "# Program to create myreduce() function. Aggregation of numbers in a list.\n",
    "\n",
    "def addn(a,b):   # function to add two numbers\n",
    "    return a+b\n",
    "\n",
    "def myreduce(func,sequ): # my reduce function with two arguments\n",
    "    x = sequ[0]          # index 0, for initial\n",
    "    for i in sequ[1:]:   # index 1 to end of list for iteration\n",
    "        x = func(x,i)    \n",
    "    return x\n",
    "    \n",
    "print(myreduce(addn,[3,5,1,6]))"
   ]
  },
  {
   "cell_type": "markdown",
   "metadata": {},
   "source": [
    "# Question 1.2"
   ]
  },
  {
   "cell_type": "code",
   "execution_count": 8,
   "metadata": {},
   "outputs": [
    {
     "name": "stdout",
     "output_type": "stream",
     "text": [
      "[11, 43, 55, 65]\n"
     ]
    }
   ],
   "source": [
    "# Program to create myreduce() function. Finding odd numbers from a list\n",
    "\n",
    "def my_filter(func,seq):\n",
    "    lst=[]\n",
    "    for x in seq:      # for loop for interating seq elements\n",
    "        if func(x):    # if condition for performing the is_odd function operation\n",
    "            lst.append(x)\n",
    "    return lst\n",
    "\n",
    "def is_odd(item):      # defining function to return boolean value\n",
    "    if item%2!=0:\n",
    "        return True\n",
    "    else :\n",
    "        return False\n",
    "\n",
    "\n",
    "seq=[11,2,34,43,55,65,70,82,92,108] # \n",
    "print(my_filter(is_odd,seq))"
   ]
  },
  {
   "cell_type": "markdown",
   "metadata": {},
   "source": [
    "# Question 2"
   ]
  },
  {
   "cell_type": "code",
   "execution_count": 79,
   "metadata": {},
   "outputs": [
    {
     "name": "stdout",
     "output_type": "stream",
     "text": [
      "['x', 'xx', 'xxx', 'xxxx', 'y', 'yy', 'yyy', 'yyyy', 'z', 'zz', 'zzz', 'zzzz']\n",
      "['x', 'y', 'z', 'xx', 'yy', 'zz', 'xxx', 'yyy', 'zzz', 'xxxx', 'yyyy', 'zzzz']\n",
      "[[2], [3], [4], [3], [4], [5], [4], [5], [6]]\n",
      "[[2, 3, 4, 5], [3, 4, 5, 6], [4, 5, 6, 7], [5, 6, 7, 8]]\n",
      "[(1, 1), (2, 1), (3, 1), (1, 2), (2, 2), (3, 2), (1, 3), (2, 3), (3, 3)]\n"
     ]
    }
   ],
   "source": [
    "\"\"\"\"\"\n",
    " Program to produce below output using list comprehension \n",
    " ['x', 'xx', 'xxx', 'xxxx', 'y', 'yy', 'yyy', 'yyyy', 'z', 'zz', 'zzz', 'zzzz']\n",
    " ['x', 'y', 'z', 'xx', 'yy', 'zz', 'xxx', 'yyy', 'zzz', 'xxxx', 'yyyy', 'zzzz']\n",
    " [[2], [3], [4], [3], [4], [5], [4], [5], [6]] \n",
    " [[2, 3, 4, 5], [3, 4, 5, 6], [4, 5, 6, 7], [5, 6, 7, 8]]\n",
    " [(1, 1), (2, 1), (3, 1), (1, 2), (2, 2), (3, 2), (1, 3), (2, 3), (3, 3)]\n",
    " \n",
    "\"\"\"\"\"\n",
    "\n",
    "# list comprehension technique to generate first list\n",
    "input_list = ['x','y','z']\n",
    "result_1 = [row*num for row in input_list for num in range(1,5)] # using upper and lower for loop condition\n",
    "print(result_1)\n",
    "\n",
    "# list comprehension to generate second list\n",
    "result_2 = [row*num for num in range(1,5) for row in input_list]\n",
    "print(result_2)\n",
    "\n",
    "# list comprehension to generate third list\n",
    "lst_3 = [2,3,4]\n",
    "result_3 = [[row+num] for row in lst_3 for num in range(0,3)]\n",
    "print(result_3)\n",
    "\n",
    "# list comprehension to generate fourth list\n",
    "lst_4 = [2,3,4,5]\n",
    "result_4 = [[row+num for row in lst_4] for num in range(0,4)] \n",
    "print(result_4)\n",
    "\n",
    "# list comprehension to generate fifth list\n",
    "lst_5 = [1,2,3]\n",
    "result_5 = [(y,x) for x in lst_5 for y in lst_5]\n",
    "print(result_5)\n"
   ]
  },
  {
   "cell_type": "code",
   "execution_count": null,
   "metadata": {},
   "outputs": [],
   "source": []
  }
 ],
 "metadata": {
  "kernelspec": {
   "display_name": "Python 3",
   "language": "python",
   "name": "python3"
  },
  "language_info": {
   "codemirror_mode": {
    "name": "ipython",
    "version": 3
   },
   "file_extension": ".py",
   "mimetype": "text/x-python",
   "name": "python",
   "nbconvert_exporter": "python",
   "pygments_lexer": "ipython3",
   "version": "3.7.6"
  }
 },
 "nbformat": 4,
 "nbformat_minor": 4
}
