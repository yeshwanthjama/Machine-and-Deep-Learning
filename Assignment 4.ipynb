{
 "cells": [
  {
   "cell_type": "markdown",
   "metadata": {},
   "source": [
    "# Question 1.1"
   ]
  },
  {
   "cell_type": "code",
   "execution_count": 1,
   "metadata": {},
   "outputs": [
    {
     "name": "stdout",
     "output_type": "stream",
     "text": [
      "Area of triangle: 43.30127018922193\n"
     ]
    }
   ],
   "source": [
    "#Area of a triangle using class concept\n",
    "\n",
    "class Side:                          # Parent class to initialize sides\n",
    "    def __init__(yp,a,b,c):\n",
    "        yp.a = a\n",
    "        yp.b = b\n",
    "        yp.c = c\n",
    "\n",
    "class Area(Side):                    # Child class\n",
    "    def __init__(yp,*args):\n",
    "        super(). __init__(*args)     # Using Super function to inherit the arguments from parent class\n",
    "        \n",
    "    def val_a(yp):\n",
    "        s = (yp.a+yp.b+yp.c)*0.5    # calculating the value of s,as we know s = (a+b+c)%2\n",
    "        area = (s*(s-yp.a)*(s-yp.b)*(s-yp.c))** 0.5   # Calculating are of triangle \n",
    "        print(\"Area of triangle:\",area)\n",
    "        \n",
    "A = Area(10,10,10)\n",
    "A.val_a()"
   ]
  },
  {
   "cell_type": "markdown",
   "metadata": {},
   "source": [
    "# Question 1.2"
   ]
  },
  {
   "cell_type": "code",
   "execution_count": 2,
   "metadata": {},
   "outputs": [
    {
     "name": "stdout",
     "output_type": "stream",
     "text": [
      "['Sachin']\n"
     ]
    }
   ],
   "source": [
    "# create function filter_long_words() that takes a list of words and integer n and returns the words which are longer than n\n",
    "\n",
    "def filter_long_words(word,n): # two arguments, one for string and the other for integer\n",
    "    return list(filter(lambda x: len(x)>n, word)) # using filter and lambda function\n",
    "print (filter_long_words([\"Sachin\",\"Lara\",\"Dhoni\",\"Kohli\"],5))"
   ]
  },
  {
   "cell_type": "code",
   "execution_count": 1,
   "metadata": {},
   "outputs": [
    {
     "name": "stdout",
     "output_type": "stream",
     "text": [
      "[6, 4, 5, 5]\n"
     ]
    }
   ],
   "source": [
    "# Program using function concept that maps list of words to into list of integers representing lenght of word\n",
    "\n",
    "def length_words(word):\n",
    "    return list(map(lambda x: len(x), word)) # using map and lambda function\n",
    "print(length_words([\"Sachin\",\"Lara\",\"Dhoni\",\"Kohli\"]))\n"
   ]
  },
  {
   "cell_type": "code",
   "execution_count": 36,
   "metadata": {},
   "outputs": [
    {
     "name": "stdout",
     "output_type": "stream",
     "text": [
      "Enter a letter in alphabet: H\n",
      "False\n"
     ]
    }
   ],
   "source": [
    "# Program to find an alphabet is a vowel or not\n",
    "\n",
    "def vowel(letter):\n",
    "    if (x==\"a\" or x == \"e\" or x==\"i\"or x == \"o\" or x== \"u\"or x == \"A\"or x ==\"E\"or x == \"I\" or x == \"O\"or x ==\"U\"):\n",
    "        print(\"True\")\n",
    "    else:\n",
    "        print(\"False\")\n",
    "x = input(\"Enter a letter in alphabet: \")\n",
    "vowel(x)"
   ]
  },
  {
   "cell_type": "code",
   "execution_count": null,
   "metadata": {},
   "outputs": [],
   "source": []
  }
 ],
 "metadata": {
  "kernelspec": {
   "display_name": "Python 3",
   "language": "python",
   "name": "python3"
  },
  "language_info": {
   "codemirror_mode": {
    "name": "ipython",
    "version": 3
   },
   "file_extension": ".py",
   "mimetype": "text/x-python",
   "name": "python",
   "nbconvert_exporter": "python",
   "pygments_lexer": "ipython3",
   "version": "3.7.6"
  }
 },
 "nbformat": 4,
 "nbformat_minor": 4
}
