{
 "cells": [
  {
   "cell_type": "markdown",
   "metadata": {},
   "source": [
    "# Question 1"
   ]
  },
  {
   "cell_type": "code",
   "execution_count": 9,
   "metadata": {},
   "outputs": [
    {
     "name": "stdout",
     "output_type": "stream",
     "text": [
      "*\n",
      "**\n",
      "***\n",
      "****\n",
      "*****\n",
      "****\n",
      "***\n",
      "**\n",
      "*\n",
      "\n"
     ]
    }
   ],
   "source": [
    "# Program to generate a specific pattern using nested for loop\n",
    "\n",
    "# To generate upper pattern\n",
    "\n",
    "for x in range(1,6):          # Setting range 1 to 6 so that 1 is included and 6 is excluded\n",
    "    for y in range(x):        # assigning the value of x to range for iteration\n",
    "        print(\"*\",end=\"\")    # printing the output\n",
    "    print(end='\\n')           # Using this print() menthod to work as '\\n'\n",
    "    \n",
    "    # to generate the lower half of the pattern\n",
    "    \n",
    "for x in range(4,-1,-1):      # Setting range 4 to -1 with step -1,so that 4 and 1 bothe are included.\n",
    "    for y in range(x):\n",
    "        print(\"*\", end=\"\")\n",
    "    print()"
   ]
  },
  {
   "cell_type": "markdown",
   "metadata": {},
   "source": [
    "# Question 2"
   ]
  },
  {
   "cell_type": "code",
   "execution_count": 1,
   "metadata": {},
   "outputs": [
    {
     "name": "stdout",
     "output_type": "stream",
     "text": [
      " iNeuron\n",
      "norueNi\n"
     ]
    }
   ],
   "source": [
    "# Program to reverse a word after accepting input from the user.\n",
    "\n",
    "Enter_a_name = input(\" \") # using input function to accept the user input\n",
    "a = []\n",
    "a.append(Enter_a_name) # using append to input the values into list\n",
    "for x in a:         # using for loop for string interation\n",
    "    if type(x) == str:\n",
    "        print(x[::-1])"
   ]
  },
  {
   "cell_type": "code",
   "execution_count": null,
   "metadata": {},
   "outputs": [],
   "source": []
  }
 ],
 "metadata": {
  "kernelspec": {
   "display_name": "Python 3",
   "language": "python",
   "name": "python3"
  },
  "language_info": {
   "codemirror_mode": {
    "name": "ipython",
    "version": 3
   },
   "file_extension": ".py",
   "mimetype": "text/x-python",
   "name": "python",
   "nbconvert_exporter": "python",
   "pygments_lexer": "ipython3",
   "version": "3.7.6"
  }
 },
 "nbformat": 4,
 "nbformat_minor": 4
}
