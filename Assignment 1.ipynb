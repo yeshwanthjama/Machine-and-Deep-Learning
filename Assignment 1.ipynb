{
 "cells": [
  {
   "cell_type": "markdown",
   "metadata": {},
   "source": [
    "## Question 1"
   ]
  },
  {
   "cell_type": "code",
   "execution_count": 1,
   "metadata": {},
   "outputs": [
    {
     "name": "stdout",
     "output_type": "stream",
     "text": [
      "[2002, 2009, 2016, 2023, 2037, 2044, 2051, 2058, 2072, 2079, 2086, 2093, 2107, 2114, 2121, 2128, 2142, 2149, 2156, 2163, 2177, 2184, 2191, 2198, 2212, 2219, 2226, 2233, 2247, 2254, 2261, 2268, 2282, 2289, 2296, 2303, 2317, 2324, 2331, 2338, 2352, 2359, 2366, 2373, 2387, 2394, 2401, 2408, 2422, 2429, 2436, 2443, 2457, 2464, 2471, 2478, 2492, 2499, 2506, 2513, 2527, 2534, 2541, 2548, 2562, 2569, 2576, 2583, 2597, 2604, 2611, 2618, 2632, 2639, 2646, 2653, 2667, 2674, 2681, 2688, 2702, 2709, 2716, 2723, 2737, 2744, 2751, 2758, 2772, 2779, 2786, 2793, 2807, 2814, 2821, 2828, 2842, 2849, 2856, 2863, 2877, 2884, 2891, 2898, 2912, 2919, 2926, 2933, 2947, 2954, 2961, 2968, 2982, 2989, 2996, 3003, 3017, 3024, 3031, 3038, 3052, 3059, 3066, 3073, 3087, 3094, 3101, 3108, 3122, 3129, 3136, 3143, 3157, 3164, 3171, 3178, 3192, 3199, 3206]\n"
     ]
    }
   ],
   "source": [
    "# all number divisible by 7 and not multiple of 5 between 2000 and 3200\n",
    "\n",
    "lst=[]                        # defining list\n",
    "for x in range(2000,3207):    # using for loop and declaring range to check each number \n",
    "    if(x%7==0) and (x%5!=0):  # Setting if condition and using \"and\" operator to get numbers divisible by 7 and not a multiple of 5\n",
    "        lst.append(int(x))    # appending list with the result\n",
    "print(lst)                    # printing the output"
   ]
  },
  {
   "cell_type": "markdown",
   "metadata": {},
   "source": [
    "## Question 2"
   ]
  },
  {
   "cell_type": "code",
   "execution_count": 3,
   "metadata": {},
   "outputs": [
    {
     "name": "stdout",
     "output_type": "stream",
     "text": [
      " Sachin\n",
      " Tendulkar\n",
      "nihcaS rakludneT "
     ]
    }
   ],
   "source": [
    "# Print first name and last name in reverse order\n",
    "\n",
    "first_name = input(\" \")\n",
    "last_name = input(\" \")\n",
    "lst = []\n",
    "lst.append(first_name)\n",
    "lst.append(last_name)\n",
    "for x in lst:\n",
    "    if type(x)== str:\n",
    "        print(x[::-1],end=\" \")"
   ]
  },
  {
   "cell_type": "markdown",
   "metadata": {},
   "source": [
    "## Question 3"
   ]
  },
  {
   "cell_type": "code",
   "execution_count": 4,
   "metadata": {},
   "outputs": [
    {
     "name": "stdout",
     "output_type": "stream",
     "text": [
      "Volume of sphere is 904.608\n"
     ]
    }
   ],
   "source": [
    "# Program to find Volume of a sphere with diameter 12 cm\n",
    "\n",
    "diameter = 12\n",
    "radius=diameter/2\n",
    "v = (4/3)*(3.141)*(radius**3) # since pi = 3.141\n",
    "print(\"Volume of sphere is\", v)"
   ]
  },
  {
   "cell_type": "markdown",
   "metadata": {},
   "source": [
    "## Question 4"
   ]
  },
  {
   "cell_type": "code",
   "execution_count": 6,
   "metadata": {},
   "outputs": [
    {
     "name": "stdout",
     "output_type": "stream",
     "text": [
      " 12\n",
      " 32\n",
      " 43\n",
      " 54\n",
      " 21\n",
      "[12, 32, 43, 54, 21]\n"
     ]
    }
   ],
   "source": [
    "# Program to accept input and generate list\n",
    "\n",
    "lst=[]\n",
    "i=0\n",
    "while i<=4:\n",
    "    x = input(\" \")\n",
    "    i = i+1\n",
    "    lst.append(int(x))\n",
    "    \n",
    "print(lst)"
   ]
  },
  {
   "cell_type": "markdown",
   "metadata": {},
   "source": [
    "## Question 5"
   ]
  },
  {
   "cell_type": "code",
   "execution_count": 7,
   "metadata": {},
   "outputs": [
    {
     "name": "stdout",
     "output_type": "stream",
     "text": [
      "* \n",
      "* * \n",
      "* * * \n",
      "* * * * \n",
      "* * * * * \n",
      "* * * * \n",
      "* * * \n",
      "* * \n",
      "* \n",
      "\n"
     ]
    }
   ],
   "source": [
    "# Program to generate a specific pattern using nested for loop\n",
    "\n",
    "# To generate upper pattern\n",
    "\n",
    "for x in range(1,6):          # Setting range 1 to 6 so that 1 is included and 6 is excluded\n",
    "    for y in range(x):        # assigning the value of x to range for iteration\n",
    "        print(\"*\",end=\" \")    # printing the output\n",
    "    print(end='\\n')           # Using this print() menthod to work as '\\n'\n",
    "    \n",
    "    # to generate the lower half of the pattern\n",
    "    \n",
    "for x in range(4,-1,-1):      # Setting range 4 to -1 with step -1,so that 4 and 1 bothe are included.\n",
    "    for y in range(x):\n",
    "        print(\"*\", end=\" \")\n",
    "    print()"
   ]
  },
  {
   "cell_type": "markdown",
   "metadata": {},
   "source": [
    "## Question 6"
   ]
  },
  {
   "cell_type": "code",
   "execution_count": null,
   "metadata": {},
   "outputs": [],
   "source": [
    "# Program to reverse input \n",
    "\n",
    "Name = input(\" \")     # Inpit method to accept the input\n",
    "lst = list(Name)      # converted the defined string into a list for interation\n",
    "for x in lst[::-1]:   # for loop for iterating each letter of string\n",
    "    print(x[::-1],end=\"\") # printing the output."
   ]
  },
  {
   "cell_type": "markdown",
   "metadata": {},
   "source": [
    "## Question7"
   ]
  },
  {
   "cell_type": "code",
   "execution_count": 9,
   "metadata": {},
   "outputs": [
    {
     "name": "stdout",
     "output_type": "stream",
     "text": [
      "WE, THE PEOPLE OF INDIA,\n",
      "\thaving solemnly resolved to constitute India into a SOVEREIGN,!\n",
      "\t      SOCIALIST, SECULAR, DEMOCRATIC REPUBLIC\n",
      "\t       and to secure to all its citizens\n"
     ]
    }
   ],
   "source": [
    "#Program to print string in a specified format\n",
    "\n",
    "print(\"\"\"WE, THE PEOPLE OF INDIA,\\n\\thaving solemnly resolved to constitute India into a SOVEREIGN,!\n",
    "\\t      SOCIALIST, SECULAR, DEMOCRATIC REPUBLIC\n",
    "\\t       and to secure to all its citizens\"\"\")"
   ]
  },
  {
   "cell_type": "code",
   "execution_count": null,
   "metadata": {},
   "outputs": [],
   "source": []
  }
 ],
 "metadata": {
  "kernelspec": {
   "display_name": "Python 3",
   "language": "python",
   "name": "python3"
  },
  "language_info": {
   "codemirror_mode": {
    "name": "ipython",
    "version": 3
   },
   "file_extension": ".py",
   "mimetype": "text/x-python",
   "name": "python",
   "nbconvert_exporter": "python",
   "pygments_lexer": "ipython3",
   "version": "3.7.6"
  }
 },
 "nbformat": 4,
 "nbformat_minor": 4
}
